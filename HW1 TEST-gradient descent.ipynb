{
 "cells": [
  {
   "cell_type": "code",
   "execution_count": null,
   "metadata": {},
   "outputs": [],
   "source": [
    "import numpy as np\n",
    "import pandas as pd"
   ]
  },
  {
   "cell_type": "code",
   "execution_count": null,
   "metadata": {},
   "outputs": [],
   "source": [
    "sample_submission = pd.read_csv(\"sample_submission.csv\")\n",
    "df_test = pd.read_csv(\"test.csv\", encoding = 'big5')\n",
    "df_train = pd.read_csv(\"train.csv\", encoding = 'big5')\n",
    "df_test.head()"
   ]
  },
  {
   "cell_type": "code",
   "execution_count": null,
   "metadata": {},
   "outputs": [],
   "source": [
    "df_test.describe()"
   ]
  },
  {
   "cell_type": "code",
   "execution_count": null,
   "metadata": {},
   "outputs": [],
   "source": [
    "df_train.head()"
   ]
  },
  {
   "cell_type": "code",
   "execution_count": null,
   "metadata": {},
   "outputs": [],
   "source": [
    "df_train.describe()"
   ]
  },
  {
   "cell_type": "code",
   "execution_count": null,
   "metadata": {},
   "outputs": [],
   "source": [
    "df_test_PM = df_test.loc[df_test[\"AMB_TEMP\"] == \"PM2.5\"]\n",
    "df_test_PM.head()"
   ]
  },
  {
   "cell_type": "code",
   "execution_count": null,
   "metadata": {},
   "outputs": [],
   "source": [
    "df_test_PM_feature = df_test_PM.iloc[:,2:]\n",
    "df_test_PM_feature.head()"
   ]
  },
  {
   "cell_type": "code",
   "execution_count": null,
   "metadata": {},
   "outputs": [],
   "source": [
    "df_train_PM = df_train.loc[df_train[\"測項\"] == \"PM2.5\"]\n",
    "df_train_PM.head()"
   ]
  },
  {
   "cell_type": "code",
   "execution_count": null,
   "metadata": {},
   "outputs": [],
   "source": [
    "df_train_PM_feature = df_train_PM.iloc[:,4:13]\n",
    "df_train_PM_label = df_train_PM.iloc[:, 14]\n",
    "df_train_PM_label = df_train_PM_label.reset_index(drop=True)"
   ]
  },
  {
   "cell_type": "code",
   "execution_count": null,
   "metadata": {},
   "outputs": [],
   "source": [
    "import tensorflow as tf\n",
    "from matplotlib import pyplot as plt"
   ]
  },
  {
   "cell_type": "code",
   "execution_count": null,
   "metadata": {},
   "outputs": [],
   "source": [
    "df_train_PM_feature.head(240)"
   ]
  },
  {
   "cell_type": "code",
   "execution_count": null,
   "metadata": {},
   "outputs": [],
   "source": [
    "#這裡的起始點我設隨機，所以如果這邊隨機重跑的話，下面參數就要跟著動,所以我把某一次隨機出現的起始權重給留下來\n",
    "#theta = np.random.randn(9,1)\n",
    "theta = np.array([[ 1.95114178],\n",
    "       [ 0.48493198],\n",
    "       [-1.4208692 ],\n",
    "       [-0.26847783],\n",
    "       [ 0.9353261 ],\n",
    "       [ 0.58597063],\n",
    "       [-0.89828277],\n",
    "       [-2.11584196],\n",
    "       [-1.20080939]])\n",
    "x = np.array(df_train_PM_feature).astype(int)\n",
    "y = np.array(df_train_PM_label).astype(int)\n",
    "y = pd.DataFrame(y)\n",
    "theta"
   ]
  },
  {
   "cell_type": "code",
   "execution_count": null,
   "metadata": {},
   "outputs": [],
   "source": [
    "learning_rate = 0.000000008\n",
    "n_iterations =1000\n",
    "for interation in range(n_iterations):\n",
    "    y_hat = np.dot(x, theta)\n",
    "    error = y - y_hat\n",
    "    gradient = 2*np.dot(x.T, error)\n",
    "    theta = theta + learning_rate * gradient\n",
    "    print(error.sum())\n",
    "#df_test_PM_feature = df_test_PM_feature.reset_index(drop=True)"
   ]
  },
  {
   "cell_type": "code",
   "execution_count": null,
   "metadata": {},
   "outputs": [],
   "source": [
    "df_test_PM_feature = df_test_PM_feature.astype(int)\n",
    "predict = np.dot(df_test_PM_feature, theta)\n",
    "predict = pd.DataFrame(predict)\n",
    "predict = predict.astype(float)\n",
    "predict.head(240)\n",
   ]
  },
  {
   "cell_type": "code",
   "execution_count": null,
   "metadata": {},
   "outputs": [],
   "source": [
    "#sample_submission = sample_submission.drop(columns = [\"value\"], axis = 1)\n",
    "result = pd.concat([sample_submission,predict],axis=1)\n",
    "result.columns = ['id', 'value']\n",
    "result.head(240)"
   ]
  },
  {
   "cell_type": "code",
   "execution_count": null,
   "metadata": {},
   "outputs": [],
   "source": []
  },
  {
   "cell_type": "code",
   "execution_count": null,
   "metadata": {},
   "outputs": [],
   "source": []
  },
  {
   "cell_type": "code",
   "execution_count": null,
   "metadata": {},
   "outputs": [],
   "source": []
  }
 ],
 "metadata": {
  "kernelspec": {
   "display_name": "Python 3",
   "language": "python",
   "name": "python3"
  },
  "language_info": {
   "codemirror_mode": {
    "name": "ipython",
    "version": 3
   },
   "file_extension": ".py",
   "mimetype": "text/x-python",
   "name": "python",
   "nbconvert_exporter": "python",
   "pygments_lexer": "ipython3",
   "version": "3.7.4"
  }
 },
 "nbformat": 4,
 "nbformat_minor": 2
}
